{
  "nbformat": 4,
  "nbformat_minor": 0,
  "metadata": {
    "colab": {
      "name": "Tensorflow.ipynb",
      "provenance": [],
      "authorship_tag": "ABX9TyM+zx4rL7MIqPEUNqnHSqkI",
      "include_colab_link": true
    },
    "kernelspec": {
      "name": "python3",
      "display_name": "Python 3"
    },
    "language_info": {
      "name": "python"
    },
    "accelerator": "GPU"
  },
  "cells": [
    {
      "cell_type": "markdown",
      "metadata": {
        "id": "view-in-github",
        "colab_type": "text"
      },
      "source": [
        "<a href=\"https://colab.research.google.com/github/IrfanPavel/Tensorflow-Deep-Learning/blob/main/Tensorflow.ipynb\" target=\"_parent\"><img src=\"https://colab.research.google.com/assets/colab-badge.svg\" alt=\"Open In Colab\"/></a>"
      ]
    },
    {
      "cell_type": "code",
      "execution_count": 3,
      "metadata": {
        "colab": {
          "base_uri": "https://localhost:8080/"
        },
        "id": "y0mTEh82jmAv",
        "outputId": "790fd07b-05db-4c87-f929-fb742171dac5"
      },
      "outputs": [
        {
          "output_type": "stream",
          "name": "stdout",
          "text": [
            "2.7.0\n"
          ]
        }
      ],
      "source": [
        "import tensorflow as tf\n",
        "print(tf.__version__)"
      ]
    },
    {
      "cell_type": "markdown",
      "source": [
        "# **Creating The Tensors with tf.constant()**"
      ],
      "metadata": {
        "id": "EyYxve6cpypd"
      }
    },
    {
      "cell_type": "code",
      "source": [
        "#Create a scalar (rank 0 tensor)\n",
        "scalar=tf.constant(7)\n",
        "scalar"
      ],
      "metadata": {
        "id": "fED_n4KUp8bB"
      },
      "execution_count": null,
      "outputs": []
    },
    {
      "cell_type": "code",
      "source": [
        "scalar.ndim"
      ],
      "metadata": {
        "id": "ZQjF4pxZru2j"
      },
      "execution_count": null,
      "outputs": []
    },
    {
      "cell_type": "code",
      "source": [
        "#Create A Vector (more than 0 dimensions)\n",
        "vector=tf.constant([10,10])\n",
        "vector"
      ],
      "metadata": {
        "id": "FQwSaoPnr_ZN"
      },
      "execution_count": null,
      "outputs": []
    },
    {
      "cell_type": "code",
      "source": [
        "vector.ndim"
      ],
      "metadata": {
        "id": "5vWMz7etsaKX"
      },
      "execution_count": null,
      "outputs": []
    },
    {
      "cell_type": "code",
      "source": [
        "#Create a matrix (more than 1 dimension)\n",
        "matrix=tf.constant([[10,7],\n",
        "                    [7,10]])\n",
        "matrix"
      ],
      "metadata": {
        "id": "DjKwIAHDs4LZ"
      },
      "execution_count": null,
      "outputs": []
    },
    {
      "cell_type": "code",
      "source": [
        "matrix.ndim"
      ],
      "metadata": {
        "id": "b1FZ4ZhVtKhK"
      },
      "execution_count": null,
      "outputs": []
    },
    {
      "cell_type": "code",
      "source": [
        "another_matrix=tf.constant([[10.,7.],\n",
        "                    [7.,10.],\n",
        "                    [8.,9.]],dtype=tf.float16)\n",
        "another_matrix"
      ],
      "metadata": {
        "id": "JmTf4sAHtXYn"
      },
      "execution_count": null,
      "outputs": []
    },
    {
      "cell_type": "code",
      "source": [
        "tensor=tf.constant([[[1,2,3],\n",
        "                     [4,5,6]],\n",
        "                    [[7,8,9],\n",
        "                     [10,11,12]],\n",
        "                    [[13,14,15],\n",
        "                     [16,17,18]]])\n",
        "tensor"
      ],
      "metadata": {
        "id": "mAARKAa0uEmj"
      },
      "execution_count": null,
      "outputs": []
    },
    {
      "cell_type": "code",
      "source": [
        "tensor.ndim"
      ],
      "metadata": {
        "id": "U70l13bmufyl"
      },
      "execution_count": null,
      "outputs": []
    },
    {
      "cell_type": "markdown",
      "source": [
        "# **A tensor can have arbitary(unlimited) amount of dimensions.**\n",
        "# For Example,Turning a a series of Images into tensors with shape(224,224,3,32)\n",
        "\n",
        "# .224,224 (The first 2 dimensions ) are the height and width of the images in pixels\n",
        "# .3 is the no. of colour channels of the image(red,green,blue)\n",
        "# .32 is the batch size(The number of images a neural network sees at any one time)"
      ],
      "metadata": {
        "id": "avlI3Z8mvAIa"
      }
    },
    {
      "cell_type": "markdown",
      "source": [
        "# Tensors-An n-dimensional array of numbers (where n can be any number,a 0 dimension tensor is a scalar,a 1 dimension tensor is a vector)"
      ],
      "metadata": {
        "id": "hD54OiVVw8Yh"
      }
    },
    {
      "cell_type": "markdown",
      "source": [
        "# **Creating Tensors with tf.variable()**"
      ],
      "metadata": {
        "id": "nTumzP0YycF9"
      }
    },
    {
      "cell_type": "markdown",
      "source": [
        "# **tf.Constant-->Immutable**\n",
        "# **tf.variable-->Mutable**"
      ],
      "metadata": {
        "id": "5Ub5JdHEynEK"
      }
    },
    {
      "cell_type": "code",
      "source": [
        "#Create the same tensor with tf.Variable() and tf.constant()\n",
        "\n",
        "changeable_tensor=tf.Variable([10,7])\n",
        "unchangeable_tensor=tf.constant([10,7])\n",
        "changeable_tensor,unchangeable_tensor"
      ],
      "metadata": {
        "id": "Lm0LbJ3sylgs"
      },
      "execution_count": null,
      "outputs": []
    },
    {
      "cell_type": "code",
      "source": [
        "changeable_tensor[0]=7\n",
        "changeable_tensor"
      ],
      "metadata": {
        "id": "-z7X_DYN1iAr"
      },
      "execution_count": null,
      "outputs": []
    },
    {
      "cell_type": "code",
      "source": [
        "changeable_tensor[0].assign(7)\n",
        "changeable_tensor"
      ],
      "metadata": {
        "id": "8nvSni4B2TA2"
      },
      "execution_count": null,
      "outputs": []
    },
    {
      "cell_type": "code",
      "source": [
        "unchangeable_tensor[0].assign(7)\n",
        "unchangeable_tensor"
      ],
      "metadata": {
        "id": "eqVfkoKM2dHl"
      },
      "execution_count": null,
      "outputs": []
    },
    {
      "cell_type": "markdown",
      "source": [
        "# **Creating Random Tensors**"
      ],
      "metadata": {
        "id": "1vr_YJ3M2s8h"
      }
    },
    {
      "cell_type": "code",
      "source": [
        "#Create two random tensors\n",
        "random_1=tf.random.Generator.from_seed(42)\n",
        "random_1=random_1.normal(shape=(3,2))\n",
        "random_2=tf.random.Generator.from_seed(42)\n",
        "random_2=random_2.normal(shape=(3,2))\n",
        "\n",
        "random_1,random_2,random_1==random_2\n"
      ],
      "metadata": {
        "id": "dPW1gwXu2yg-"
      },
      "execution_count": null,
      "outputs": []
    },
    {
      "cell_type": "code",
      "source": [
        "#Create two random tensors\n",
        "random_1=tf.random.Generator.from_seed(11)\n",
        "random_1=random_1.normal(shape=(3,2))\n",
        "random_2=tf.random.Generator.from_seed(11)\n",
        "random_2=random_2.normal(shape=(3,2))\n",
        "\n",
        "random_1,random_2,random_1==random_2\n"
      ],
      "metadata": {
        "id": "D4wCt8ae5fub"
      },
      "execution_count": null,
      "outputs": []
    },
    {
      "cell_type": "markdown",
      "source": [
        "# **Other ways to make tensors**"
      ],
      "metadata": {
        "id": "A0odulr8svLy"
      }
    },
    {
      "cell_type": "code",
      "source": [
        "#Make a tensor of all ones\n",
        "tf.ones(shape=(3,2))"
      ],
      "metadata": {
        "id": "xY9CoELTs0GB"
      },
      "execution_count": null,
      "outputs": []
    },
    {
      "cell_type": "code",
      "source": [
        "#Make a tensor of all zeros\n",
        "tf.zeros(shape=(3,2))"
      ],
      "metadata": {
        "id": "IA4GwYzotnQX"
      },
      "execution_count": null,
      "outputs": []
    },
    {
      "cell_type": "code",
      "source": [
        "import numpy as np\n",
        "numpy_A=np.arange(1,25,dtype=np.int32)\n",
        "\n",
        "A=tf.constant(numpy_A,shape=[2,4,3])\n",
        "numpy_A,A"
      ],
      "metadata": {
        "id": "mQS8vzRBtzSV"
      },
      "execution_count": null,
      "outputs": []
    },
    {
      "cell_type": "markdown",
      "source": [
        "Getting Information From Tensors(shape,rank,size)\n",
        "\n",
        "Shape:The length(number of elements) of each of the dimensions of a tensor\n",
        "\n",
        "Rank: The number of tensor dimensions(Scalar rank-0,Vector Rank-1,Matrix rank-2,Tensor rank-n)\n",
        "\n",
        "Axis or Dimension: A particular dimension of a tensor\n",
        "\n",
        "Size: The total number of items in Tensor"
      ],
      "metadata": {
        "id": "PSjXzcSyuUOS"
      }
    },
    {
      "cell_type": "code",
      "source": [
        "#Create a rank 4 Tensors\n",
        "\n",
        "rank_4_tensor=tf.zeros([2,3,4,5])\n",
        "rank_4_tensor"
      ],
      "metadata": {
        "id": "7WIrL19lvDgj"
      },
      "execution_count": null,
      "outputs": []
    },
    {
      "cell_type": "code",
      "source": [
        "rank_4_tensor.shape,rank_4_tensor.ndim,tf.size(rank_4_tensor)"
      ],
      "metadata": {
        "id": "LtSraFDgvs-k"
      },
      "execution_count": null,
      "outputs": []
    },
    {
      "cell_type": "code",
      "source": [
        "#Get various attributes of Tensor\n",
        "print(\"Datatype of every elements {}\".format(rank_4_tensor.dtype))\n",
        "print(\"No. of dimensions (rank) {}\".format(rank_4_tensor.ndim))\n",
        "print(\"Shape of Tensor {}\".format(rank_4_tensor.shape))\n",
        "print(\"Elements along axis 0 of Tensor {}\".format(rank_4_tensor.shape[0]))\n",
        "print(\"Elements along last axis of tensor {}\".format(rank_4_tensor.shape[-1]))\n",
        "print(\"Total no of elements  {}\".format((tf.size(rank_4_tensor).numpy())))"
      ],
      "metadata": {
        "id": "q4kn54p1wMy8"
      },
      "execution_count": null,
      "outputs": []
    },
    {
      "cell_type": "code",
      "source": [
        "rank_4_tensor"
      ],
      "metadata": {
        "id": "uvkG87QUFUNi"
      },
      "execution_count": null,
      "outputs": []
    },
    {
      "cell_type": "code",
      "source": [
        "#Get The first 2 items of each dimensions\n",
        "rank_4_tensor[:2,:2,:2,:2]"
      ],
      "metadata": {
        "id": "7T5D9j_UEo80"
      },
      "execution_count": null,
      "outputs": []
    },
    {
      "cell_type": "code",
      "source": [
        "rank_2_tensor=tf.constant([[10,7],\n",
        "                           [3,4]])"
      ],
      "metadata": {
        "id": "mZo1eapJF4zW"
      },
      "execution_count": null,
      "outputs": []
    },
    {
      "cell_type": "code",
      "source": [
        "rank_2_tensor"
      ],
      "metadata": {
        "id": "eO2qyuO5G8jH"
      },
      "execution_count": null,
      "outputs": []
    },
    {
      "cell_type": "code",
      "source": [
        "#Get The last item of each row\n",
        "rank_2_tensor[:,-1]"
      ],
      "metadata": {
        "id": "htACB4iQGIRM"
      },
      "execution_count": null,
      "outputs": []
    },
    {
      "cell_type": "code",
      "source": [
        "#Add an extra Dimensions\n",
        "rank_3_tensors=rank_2_tensor[...,tf.newaxis]\n",
        "rank_3_tensors"
      ],
      "metadata": {
        "id": "TH-FJoAcGgSj"
      },
      "execution_count": null,
      "outputs": []
    },
    {
      "cell_type": "code",
      "source": [
        "#Expand\n",
        "tf.expand_dims(rank_2_tensor,axis=-1) #-1 means last axis"
      ],
      "metadata": {
        "id": "fhU-l690HJcY"
      },
      "execution_count": null,
      "outputs": []
    },
    {
      "cell_type": "markdown",
      "source": [
        "# **Manipulating Tensors(tensor operations)**"
      ],
      "metadata": {
        "id": "OBitzchDH25v"
      }
    },
    {
      "cell_type": "markdown",
      "source": [
        "# **Basic Operations**"
      ],
      "metadata": {
        "id": "u4deRDmgII2-"
      }
    },
    {
      "cell_type": "code",
      "source": [
        "#Add values to a tensor using the addition operator\n",
        "tensor=tf.constant([[10,7],[3,4]])\n",
        "tensor"
      ],
      "metadata": {
        "id": "SPF2PYOOIGlV"
      },
      "execution_count": null,
      "outputs": []
    },
    {
      "cell_type": "code",
      "source": [
        "tensor+10"
      ],
      "metadata": {
        "id": "_m4AKk-PIiE3"
      },
      "execution_count": null,
      "outputs": []
    },
    {
      "cell_type": "code",
      "source": [
        "tensor*10"
      ],
      "metadata": {
        "id": "v2VJO3fzImZE"
      },
      "execution_count": null,
      "outputs": []
    },
    {
      "cell_type": "code",
      "source": [
        "tf.multiply(tensor,10)"
      ],
      "metadata": {
        "id": "Fwj6rZyHIypd"
      },
      "execution_count": null,
      "outputs": []
    },
    {
      "cell_type": "markdown",
      "source": [
        "# **Matrix Manipulation**"
      ],
      "metadata": {
        "id": "W2HrMaCfI_i_"
      }
    },
    {
      "cell_type": "code",
      "source": [
        "print(tensor)"
      ],
      "metadata": {
        "id": "pGr047tdJI1K"
      },
      "execution_count": null,
      "outputs": []
    },
    {
      "cell_type": "code",
      "source": [
        "tf.matmul(tensor,tensor)"
      ],
      "metadata": {
        "id": "sItvAY8XJMAI"
      },
      "execution_count": null,
      "outputs": []
    },
    {
      "cell_type": "code",
      "source": [
        "tensor @ tensor"
      ],
      "metadata": {
        "id": "T_klWdqPJVIO"
      },
      "execution_count": null,
      "outputs": []
    },
    {
      "cell_type": "code",
      "source": [
        "#(3,2)\n",
        "X=tf.constant([[1,2],\n",
        "               [3,4],\n",
        "               [5,6]])\n",
        "\n",
        "Y=tf.constant([[7,8],\n",
        "               [9,10],\n",
        "               [11,12]])"
      ],
      "metadata": {
        "id": "15DE5oGnJVBb"
      },
      "execution_count": null,
      "outputs": []
    },
    {
      "cell_type": "code",
      "source": [
        "X @ Y"
      ],
      "metadata": {
        "id": "6xq_f-bEKWjL"
      },
      "execution_count": null,
      "outputs": []
    },
    {
      "cell_type": "code",
      "source": [
        "X @ tf.reshape(Y,shape=(2,3))"
      ],
      "metadata": {
        "id": "PJTsb4-3K4jJ"
      },
      "execution_count": null,
      "outputs": []
    },
    {
      "cell_type": "code",
      "source": [
        "#Transpose\n",
        "tf.transpose(X)\n"
      ],
      "metadata": {
        "id": "jG7m5VP-LFdt"
      },
      "execution_count": null,
      "outputs": []
    },
    {
      "cell_type": "code",
      "source": [
        "tf.matmul(tf.transpose(X),Y)"
      ],
      "metadata": {
        "id": "kSU8jBl5MK3Z"
      },
      "execution_count": null,
      "outputs": []
    },
    {
      "cell_type": "code",
      "source": [
        "tf.matmul(a=X,b=Y,transpose_a=True,transpose_b=False)"
      ],
      "metadata": {
        "id": "j5qExySNNXT3"
      },
      "execution_count": null,
      "outputs": []
    },
    {
      "cell_type": "markdown",
      "source": [
        "# **Changing The DataType of a tensor**"
      ],
      "metadata": {
        "id": "Duf6H1wKN4Rk"
      }
    },
    {
      "cell_type": "code",
      "source": [
        "B=tf.constant([1,7,7.4])"
      ],
      "metadata": {
        "id": "_T2GBGsvN_jN"
      },
      "execution_count": null,
      "outputs": []
    },
    {
      "cell_type": "code",
      "source": [
        "B.dtype"
      ],
      "metadata": {
        "colab": {
          "base_uri": "https://localhost:8080/"
        },
        "id": "9JaQSq_cOGqh",
        "outputId": "5c321bb8-5021-40d6-adb3-160c84d3ea96"
      },
      "execution_count": null,
      "outputs": [
        {
          "output_type": "execute_result",
          "data": {
            "text/plain": [
              "tf.float32"
            ]
          },
          "metadata": {},
          "execution_count": 9
        }
      ]
    },
    {
      "cell_type": "code",
      "source": [
        "B=tf.cast(B,dtype=tf.float16)\n",
        "B"
      ],
      "metadata": {
        "colab": {
          "base_uri": "https://localhost:8080/"
        },
        "id": "892MjERNONsw",
        "outputId": "ae91dae7-b9fa-4088-e302-e1053233d3f1"
      },
      "execution_count": null,
      "outputs": [
        {
          "output_type": "execute_result",
          "data": {
            "text/plain": [
              "<tf.Tensor: shape=(3,), dtype=float16, numpy=array([1. , 7. , 7.4], dtype=float16)>"
            ]
          },
          "metadata": {},
          "execution_count": 10
        }
      ]
    },
    {
      "cell_type": "code",
      "source": [
        "B.dtype"
      ],
      "metadata": {
        "id": "aG9RT5gKOV8-",
        "outputId": "810db685-1bc8-45db-9412-80c410c110a3",
        "colab": {
          "base_uri": "https://localhost:8080/"
        }
      },
      "execution_count": null,
      "outputs": [
        {
          "output_type": "execute_result",
          "data": {
            "text/plain": [
              "tf.float16"
            ]
          },
          "metadata": {},
          "execution_count": 11
        }
      ]
    },
    {
      "cell_type": "code",
      "source": [
        "D=tf.constant([-7,-10])\n",
        "D"
      ],
      "metadata": {
        "colab": {
          "base_uri": "https://localhost:8080/"
        },
        "id": "om4bgRga_uBn",
        "outputId": "5b9b899f-a76e-466b-eb78-ad5085b32760"
      },
      "execution_count": null,
      "outputs": [
        {
          "output_type": "execute_result",
          "data": {
            "text/plain": [
              "<tf.Tensor: shape=(2,), dtype=int32, numpy=array([ -7, -10], dtype=int32)>"
            ]
          },
          "metadata": {},
          "execution_count": 12
        }
      ]
    },
    {
      "cell_type": "code",
      "source": [
        "tf.abs(D)"
      ],
      "metadata": {
        "colab": {
          "base_uri": "https://localhost:8080/"
        },
        "id": "VKR3ZgiT_1SE",
        "outputId": "d17ec1e1-57bd-4d36-d328-ff67e9ec2087"
      },
      "execution_count": null,
      "outputs": [
        {
          "output_type": "execute_result",
          "data": {
            "text/plain": [
              "<tf.Tensor: shape=(2,), dtype=int32, numpy=array([ 7, 10], dtype=int32)>"
            ]
          },
          "metadata": {},
          "execution_count": 13
        }
      ]
    },
    {
      "cell_type": "code",
      "source": [
        "import numpy as np"
      ],
      "metadata": {
        "id": "wGrl5wR6AiLo"
      },
      "execution_count": 5,
      "outputs": []
    },
    {
      "cell_type": "code",
      "source": [
        "E=tf.constant(np.random.randint(low=0,high=100,size=50))\n",
        "E"
      ],
      "metadata": {
        "colab": {
          "base_uri": "https://localhost:8080/"
        },
        "id": "VzQ6clzEAU2a",
        "outputId": "370aee28-1acc-44ec-fd7b-eaf2e13e04db"
      },
      "execution_count": null,
      "outputs": [
        {
          "output_type": "execute_result",
          "data": {
            "text/plain": [
              "<tf.Tensor: shape=(50,), dtype=int64, numpy=\n",
              "array([ 4, 36, 38,  5, 17, 99, 89, 83, 97, 30,  0, 96, 71, 44, 16, 95, 19,\n",
              "       64, 31, 36, 60, 30, 92, 70,  0,  4, 96, 64, 60, 26, 34, 10, 20, 77,\n",
              "       30, 85, 87, 80, 11, 60, 53, 75, 32, 43, 39, 70, 83, 26, 69, 44])>"
            ]
          },
          "metadata": {},
          "execution_count": 16
        }
      ]
    },
    {
      "cell_type": "code",
      "source": [
        "tf.reduce_min(E)"
      ],
      "metadata": {
        "colab": {
          "base_uri": "https://localhost:8080/"
        },
        "id": "Xtcj0E0fAm6S",
        "outputId": "ab709c07-960b-4d5d-808e-883e50a26255"
      },
      "execution_count": null,
      "outputs": [
        {
          "output_type": "execute_result",
          "data": {
            "text/plain": [
              "<tf.Tensor: shape=(), dtype=int64, numpy=0>"
            ]
          },
          "metadata": {},
          "execution_count": 17
        }
      ]
    },
    {
      "cell_type": "code",
      "source": [
        "tf.reduce_max(E)"
      ],
      "metadata": {
        "colab": {
          "base_uri": "https://localhost:8080/"
        },
        "id": "DnNjm9iHA07G",
        "outputId": "984c6b7d-7b30-49c6-f1dd-bbf3f8628f58"
      },
      "execution_count": null,
      "outputs": [
        {
          "output_type": "execute_result",
          "data": {
            "text/plain": [
              "<tf.Tensor: shape=(), dtype=int64, numpy=99>"
            ]
          },
          "metadata": {},
          "execution_count": 18
        }
      ]
    },
    {
      "cell_type": "code",
      "source": [
        "tf.reduce_mean(E)"
      ],
      "metadata": {
        "colab": {
          "base_uri": "https://localhost:8080/"
        },
        "id": "J1wC126vA6Cl",
        "outputId": "9624de1d-f0ed-4bd4-be8d-8495d1bd062a"
      },
      "execution_count": null,
      "outputs": [
        {
          "output_type": "execute_result",
          "data": {
            "text/plain": [
              "<tf.Tensor: shape=(), dtype=int64, numpy=50>"
            ]
          },
          "metadata": {},
          "execution_count": 20
        }
      ]
    },
    {
      "cell_type": "code",
      "source": [
        "tf.reduce_sum(E)"
      ],
      "metadata": {
        "colab": {
          "base_uri": "https://localhost:8080/"
        },
        "id": "Rtl12BuwA74R",
        "outputId": "f5937bf9-73f6-465b-9d72-6c1612501523"
      },
      "execution_count": null,
      "outputs": [
        {
          "output_type": "execute_result",
          "data": {
            "text/plain": [
              "<tf.Tensor: shape=(), dtype=int64, numpy=2500>"
            ]
          },
          "metadata": {},
          "execution_count": 19
        }
      ]
    },
    {
      "cell_type": "markdown",
      "source": [
        "# **Finding The positional Maximum and Minimum**"
      ],
      "metadata": {
        "id": "fdEOlni-_tjl"
      }
    },
    {
      "cell_type": "markdown",
      "source": [
        "Finding The position of a tensor where the max value occurs"
      ],
      "metadata": {
        "id": "ndH0Ciy6BQME"
      }
    },
    {
      "cell_type": "code",
      "source": [
        "F=tf.constant(np.random.random(50))\n",
        "F"
      ],
      "metadata": {
        "id": "OXRfqFE_BOqj"
      },
      "execution_count": null,
      "outputs": []
    },
    {
      "cell_type": "code",
      "source": [
        "tf.argmax(F)"
      ],
      "metadata": {
        "colab": {
          "base_uri": "https://localhost:8080/"
        },
        "id": "OvhvcAReBnXi",
        "outputId": "31335749-32e4-40b8-d671-71f3e6654290"
      },
      "execution_count": null,
      "outputs": [
        {
          "output_type": "execute_result",
          "data": {
            "text/plain": [
              "<tf.Tensor: shape=(), dtype=int64, numpy=31>"
            ]
          },
          "metadata": {},
          "execution_count": 22
        }
      ]
    },
    {
      "cell_type": "code",
      "source": [
        "tf.argmin(F)"
      ],
      "metadata": {
        "colab": {
          "base_uri": "https://localhost:8080/"
        },
        "id": "ZEZQn0KyBtEZ",
        "outputId": "c806795e-5bd7-4501-e788-01aef91f9151"
      },
      "execution_count": null,
      "outputs": [
        {
          "output_type": "execute_result",
          "data": {
            "text/plain": [
              "<tf.Tensor: shape=(), dtype=int64, numpy=30>"
            ]
          },
          "metadata": {},
          "execution_count": 23
        }
      ]
    },
    {
      "cell_type": "markdown",
      "source": [
        "# **Squeezing a tensor(Removing all single Dimensions)**"
      ],
      "metadata": {
        "id": "eXNoJci-CVk9"
      }
    },
    {
      "cell_type": "code",
      "source": [
        "G=tf.constant(np.random.randint(0,100,50),shape=(1,1,1,1,50))\n",
        "G.shape,G.ndim"
      ],
      "metadata": {
        "colab": {
          "base_uri": "https://localhost:8080/"
        },
        "id": "f89LjeNKCeJj",
        "outputId": "3183312a-4928-4198-c9cc-bdf1d7d757e9"
      },
      "execution_count": null,
      "outputs": [
        {
          "output_type": "execute_result",
          "data": {
            "text/plain": [
              "(TensorShape([1, 1, 1, 1, 50]), 5)"
            ]
          },
          "metadata": {},
          "execution_count": 28
        }
      ]
    },
    {
      "cell_type": "code",
      "source": [
        "G_sqz=tf.squeeze(G)\n",
        "\n",
        "G_sqz.shape, G_sqz.ndim"
      ],
      "metadata": {
        "colab": {
          "base_uri": "https://localhost:8080/"
        },
        "id": "3GqZiPzCC2Y1",
        "outputId": "cf073213-f908-476b-bf8b-fc918a143f12"
      },
      "execution_count": null,
      "outputs": [
        {
          "output_type": "execute_result",
          "data": {
            "text/plain": [
              "(TensorShape([50]), 1)"
            ]
          },
          "metadata": {},
          "execution_count": 26
        }
      ]
    },
    {
      "cell_type": "markdown",
      "source": [
        "# **One_Hot Encoding()**"
      ],
      "metadata": {
        "id": "k8mB9QJZDVax"
      }
    },
    {
      "cell_type": "code",
      "source": [
        "some_list=[0,1,2,3]\n",
        "# some_list=[\"orange\",\"apple\",\"Grapes\",\"Red\"]\n",
        "\n",
        "#One hot encode them\n",
        "\n",
        "tf.one_hot(some_list,depth=4)"
      ],
      "metadata": {
        "colab": {
          "base_uri": "https://localhost:8080/"
        },
        "id": "hTwkcpslEhQX",
        "outputId": "882a0473-b8e5-4b9a-e03f-415fb3d30086"
      },
      "execution_count": null,
      "outputs": [
        {
          "output_type": "execute_result",
          "data": {
            "text/plain": [
              "<tf.Tensor: shape=(4, 4), dtype=float32, numpy=\n",
              "array([[1., 0., 0., 0.],\n",
              "       [0., 1., 0., 0.],\n",
              "       [0., 0., 1., 0.],\n",
              "       [0., 0., 0., 1.]], dtype=float32)>"
            ]
          },
          "metadata": {},
          "execution_count": 33
        }
      ]
    },
    {
      "cell_type": "code",
      "source": [
        "#Specify custom value for an off encoding\n",
        "\n",
        "tf.one_hot(some_list,depth=4,on_value=\"We're Alive\",off_value=\"Offline\")"
      ],
      "metadata": {
        "colab": {
          "base_uri": "https://localhost:8080/"
        },
        "id": "tQ0biD1hF4-s",
        "outputId": "33de1331-2d38-4521-b1ea-3c2aee2404e4"
      },
      "execution_count": null,
      "outputs": [
        {
          "output_type": "execute_result",
          "data": {
            "text/plain": [
              "<tf.Tensor: shape=(4, 4), dtype=string, numpy=\n",
              "array([[b\"We're Alive\", b'Offline', b'Offline', b'Offline'],\n",
              "       [b'Offline', b\"We're Alive\", b'Offline', b'Offline'],\n",
              "       [b'Offline', b'Offline', b\"We're Alive\", b'Offline'],\n",
              "       [b'Offline', b'Offline', b'Offline', b\"We're Alive\"]], dtype=object)>"
            ]
          },
          "metadata": {},
          "execution_count": 34
        }
      ]
    },
    {
      "cell_type": "markdown",
      "source": [
        "# **Squaring,log,square Root**"
      ],
      "metadata": {
        "id": "6_90yl3mHMgE"
      }
    },
    {
      "cell_type": "code",
      "source": [
        "H=tf.constant(np.arange(1,10))\n",
        "H"
      ],
      "metadata": {
        "colab": {
          "base_uri": "https://localhost:8080/"
        },
        "id": "1-r4EESlHIZc",
        "outputId": "cd1c2521-15b6-4a42-d97a-33997ab1c531"
      },
      "execution_count": null,
      "outputs": [
        {
          "output_type": "execute_result",
          "data": {
            "text/plain": [
              "<tf.Tensor: shape=(9,), dtype=int64, numpy=array([1, 2, 3, 4, 5, 6, 7, 8, 9])>"
            ]
          },
          "metadata": {},
          "execution_count": 38
        }
      ]
    },
    {
      "cell_type": "code",
      "source": [
        "tf.square(H)"
      ],
      "metadata": {
        "colab": {
          "base_uri": "https://localhost:8080/"
        },
        "id": "q-cixZ-RH05Y",
        "outputId": "bb514a14-aec9-43d0-bdef-58cccf06388f"
      },
      "execution_count": null,
      "outputs": [
        {
          "output_type": "execute_result",
          "data": {
            "text/plain": [
              "<tf.Tensor: shape=(9,), dtype=int64, numpy=array([ 1,  4,  9, 16, 25, 36, 49, 64, 81])>"
            ]
          },
          "metadata": {},
          "execution_count": 39
        }
      ]
    },
    {
      "cell_type": "code",
      "source": [
        "tf.sqrt(H)"
      ],
      "metadata": {
        "id": "Dzf3UPpmHsHk"
      },
      "execution_count": null,
      "outputs": []
    },
    {
      "cell_type": "code",
      "source": [
        "#Change H to float32\n",
        "H=tf.cast(H,dtype=tf.float32)"
      ],
      "metadata": {
        "id": "mwjVQ6bJILDd"
      },
      "execution_count": null,
      "outputs": []
    },
    {
      "cell_type": "code",
      "source": [
        "tf.sqrt(H)"
      ],
      "metadata": {
        "colab": {
          "base_uri": "https://localhost:8080/"
        },
        "id": "BgSTwj20Iw6e",
        "outputId": "d4f9eee5-3425-4b52-8fb6-0e8e2e88dcd2"
      },
      "execution_count": null,
      "outputs": [
        {
          "output_type": "execute_result",
          "data": {
            "text/plain": [
              "<tf.Tensor: shape=(9,), dtype=float32, numpy=\n",
              "array([0.99999994, 1.4142134 , 1.7320508 , 1.9999999 , 2.236068  ,\n",
              "       2.4494896 , 2.6457512 , 2.8284268 , 3.        ], dtype=float32)>"
            ]
          },
          "metadata": {},
          "execution_count": 42
        }
      ]
    },
    {
      "cell_type": "code",
      "source": [
        "tf.math.log(H)"
      ],
      "metadata": {
        "colab": {
          "base_uri": "https://localhost:8080/"
        },
        "id": "UI3kTGd3I4ow",
        "outputId": "29699a27-01f2-476f-b9bd-6b1cae4b9f46"
      },
      "execution_count": null,
      "outputs": [
        {
          "output_type": "execute_result",
          "data": {
            "text/plain": [
              "<tf.Tensor: shape=(9,), dtype=float32, numpy=\n",
              "array([0.       , 0.6931472, 1.0986123, 1.3862944, 1.609438 , 1.7917595,\n",
              "       1.9459102, 2.0794415, 2.1972246], dtype=float32)>"
            ]
          },
          "metadata": {},
          "execution_count": 43
        }
      ]
    },
    {
      "cell_type": "markdown",
      "source": [
        "# Manipultaing tf.variable tensors"
      ],
      "metadata": {
        "id": "vCcTvmuxJDrL"
      }
    },
    {
      "cell_type": "markdown",
      "source": [
        "# **.Assign()-Assign a different value to a particular index of a variable tensor**\n",
        "\n",
        "# **.add_assign()-Add to an existing value and reassign it at a particular index of a variable tensor** "
      ],
      "metadata": {
        "id": "Wm0D0FiyJOze"
      }
    },
    {
      "cell_type": "code",
      "source": [
        "#Create a Variable Tensor\n",
        "I=tf.Variable(np.arange(0,5))\n",
        "I"
      ],
      "metadata": {
        "colab": {
          "base_uri": "https://localhost:8080/"
        },
        "id": "gwjoDx9BJu5x",
        "outputId": "93a699fb-b006-4091-c105-ba7c2d6e81ee"
      },
      "execution_count": null,
      "outputs": [
        {
          "output_type": "execute_result",
          "data": {
            "text/plain": [
              "<tf.Variable 'Variable:0' shape=(5,) dtype=int64, numpy=array([0, 1, 2, 3, 4])>"
            ]
          },
          "metadata": {},
          "execution_count": 44
        }
      ]
    },
    {
      "cell_type": "code",
      "source": [
        "#assign the final value a new value of 50\n",
        "I.assign([0,1,2,3,50])"
      ],
      "metadata": {
        "colab": {
          "base_uri": "https://localhost:8080/"
        },
        "id": "11BIvLD9KlXB",
        "outputId": "6d79c456-cbcf-41e3-92f4-363acf3afb34"
      },
      "execution_count": null,
      "outputs": [
        {
          "output_type": "execute_result",
          "data": {
            "text/plain": [
              "<tf.Variable 'UnreadVariable' shape=(5,) dtype=int64, numpy=array([ 0,  1,  2,  3, 50])>"
            ]
          },
          "metadata": {},
          "execution_count": 45
        }
      ]
    },
    {
      "cell_type": "code",
      "source": [
        "I"
      ],
      "metadata": {
        "colab": {
          "base_uri": "https://localhost:8080/"
        },
        "id": "O8Nh-qjSLsuk",
        "outputId": "e1950706-04dc-4646-efd9-b17d6840c0f2"
      },
      "execution_count": null,
      "outputs": [
        {
          "output_type": "execute_result",
          "data": {
            "text/plain": [
              "<tf.Variable 'Variable:0' shape=(5,) dtype=int64, numpy=array([ 0,  1,  2,  3, 50])>"
            ]
          },
          "metadata": {},
          "execution_count": 46
        }
      ]
    },
    {
      "cell_type": "code",
      "source": [
        "I.assign_add([10,10,10,10,10])"
      ],
      "metadata": {
        "colab": {
          "base_uri": "https://localhost:8080/"
        },
        "id": "7vHNYr88Lzzg",
        "outputId": "3fc8b24c-87fb-43ef-b5b8-4e79976e3275"
      },
      "execution_count": null,
      "outputs": [
        {
          "output_type": "execute_result",
          "data": {
            "text/plain": [
              "<tf.Variable 'UnreadVariable' shape=(5,) dtype=int64, numpy=array([10, 11, 12, 13, 60])>"
            ]
          },
          "metadata": {},
          "execution_count": 48
        }
      ]
    },
    {
      "cell_type": "code",
      "source": [
        "I"
      ],
      "metadata": {
        "colab": {
          "base_uri": "https://localhost:8080/"
        },
        "id": "h9ajCGGQNlLQ",
        "outputId": "90f536f0-4677-4a36-8ba9-3d770559e32f"
      },
      "execution_count": null,
      "outputs": [
        {
          "output_type": "execute_result",
          "data": {
            "text/plain": [
              "<tf.Variable 'Variable:0' shape=(5,) dtype=int64, numpy=array([10, 11, 12, 13, 60])>"
            ]
          },
          "metadata": {},
          "execution_count": 49
        }
      ]
    },
    {
      "cell_type": "markdown",
      "source": [
        "# **Tensors and Numpy**"
      ],
      "metadata": {
        "id": "5gRzJqDDOPJ_"
      }
    },
    {
      "cell_type": "markdown",
      "source": [
        "# **.np.array()-pass a tensor to convert to an ndarray**\n",
        "# **.tensor.numpy()-call on a tensor to convert to an ndarray**"
      ],
      "metadata": {
        "id": "uBPZ9bTbOcYd"
      }
    },
    {
      "cell_type": "code",
      "source": [
        "J=tf.constant(np.array([3.,7.,10.]))\n",
        "J"
      ],
      "metadata": {
        "colab": {
          "base_uri": "https://localhost:8080/"
        },
        "id": "LSl1wmFAOv-E",
        "outputId": "e65b8c39-fc29-4966-a44a-eccc54569b64"
      },
      "execution_count": null,
      "outputs": [
        {
          "output_type": "execute_result",
          "data": {
            "text/plain": [
              "<tf.Tensor: shape=(3,), dtype=float64, numpy=array([ 3.,  7., 10.])>"
            ]
          },
          "metadata": {},
          "execution_count": 50
        }
      ]
    },
    {
      "cell_type": "code",
      "source": [
        "np.array(J),type(np.array(J))"
      ],
      "metadata": {
        "colab": {
          "base_uri": "https://localhost:8080/"
        },
        "id": "VhZV8N3OOMFi",
        "outputId": "6c076d17-6e9a-4941-a529-62073bdd50b8"
      },
      "execution_count": null,
      "outputs": [
        {
          "output_type": "execute_result",
          "data": {
            "text/plain": [
              "(array([ 3.,  7., 10.]), numpy.ndarray)"
            ]
          },
          "metadata": {},
          "execution_count": 51
        }
      ]
    },
    {
      "cell_type": "code",
      "source": [
        "J.numpy()"
      ],
      "metadata": {
        "colab": {
          "base_uri": "https://localhost:8080/"
        },
        "id": "x6CwA3qkPdCa",
        "outputId": "0146d6fc-f04a-4499-8336-68c49c13a6c3"
      },
      "execution_count": null,
      "outputs": [
        {
          "output_type": "execute_result",
          "data": {
            "text/plain": [
              "array([ 3.,  7., 10.])"
            ]
          },
          "metadata": {},
          "execution_count": 53
        }
      ]
    },
    {
      "cell_type": "markdown",
      "source": [
        "# **@tf.function**"
      ],
      "metadata": {
        "id": "-PEinBhMKkiO"
      }
    },
    {
      "cell_type": "code",
      "source": [
        "#Create a simple function\n",
        "def function(x,y):\n",
        "  return x**2+y\n",
        "x=tf.constant(np.arange(0,10))\n",
        "y=tf.constant(np.arange(10,20))\n",
        "function(x,y)"
      ],
      "metadata": {
        "colab": {
          "base_uri": "https://localhost:8080/"
        },
        "id": "FbISkwlPRIHQ",
        "outputId": "4f936677-7c18-49b3-f726-cca3a2004413"
      },
      "execution_count": 6,
      "outputs": [
        {
          "output_type": "execute_result",
          "data": {
            "text/plain": [
              "<tf.Tensor: shape=(10,), dtype=int64, numpy=array([ 10,  12,  16,  22,  30,  40,  52,  66,  82, 100])>"
            ]
          },
          "metadata": {},
          "execution_count": 6
        }
      ]
    },
    {
      "cell_type": "code",
      "source": [
        "#Create the same function and decorate it with tf.function\n",
        "@tf.function\n",
        "def tf_function(x,y):\n",
        "  return x**2+y\n",
        "\n",
        "function(x,y)\n",
        "\n"
      ],
      "metadata": {
        "colab": {
          "base_uri": "https://localhost:8080/"
        },
        "id": "r-WxrrL5SA9u",
        "outputId": "7e1d77e4-bed7-485e-8f9f-7b2dd9c2416c"
      },
      "execution_count": 7,
      "outputs": [
        {
          "output_type": "execute_result",
          "data": {
            "text/plain": [
              "<tf.Tensor: shape=(10,), dtype=int64, numpy=array([ 10,  12,  16,  22,  30,  40,  52,  66,  82, 100])>"
            ]
          },
          "metadata": {},
          "execution_count": 7
        }
      ]
    },
    {
      "cell_type": "markdown",
      "source": [
        "# **Finding Access to GPUs**"
      ],
      "metadata": {
        "id": "O7WvwyI7Suw6"
      }
    },
    {
      "cell_type": "code",
      "source": [
        "print(tf.config.list_physical_devices(\"GPU\"))"
      ],
      "metadata": {
        "colab": {
          "base_uri": "https://localhost:8080/"
        },
        "id": "JPEwZgzAS1CY",
        "outputId": "8ee1a8d3-521c-4450-91f4-2ca24ca61c40"
      },
      "execution_count": 8,
      "outputs": [
        {
          "output_type": "stream",
          "name": "stdout",
          "text": [
            "[]\n"
          ]
        }
      ]
    },
    {
      "cell_type": "code",
      "source": [
        "import tensorflow as tf\n",
        "print(tf.config.list_physical_devices(\"GPU\"))"
      ],
      "metadata": {
        "colab": {
          "base_uri": "https://localhost:8080/"
        },
        "id": "OxfgW5dhTb2i",
        "outputId": "d9a1d10c-02cf-4206-fd7d-53ec6317e135"
      },
      "execution_count": 1,
      "outputs": [
        {
          "output_type": "stream",
          "name": "stdout",
          "text": [
            "[PhysicalDevice(name='/physical_device:GPU:0', device_type='GPU')]\n"
          ]
        }
      ]
    },
    {
      "cell_type": "code",
      "source": [
        "!nvidia-smi"
      ],
      "metadata": {
        "colab": {
          "base_uri": "https://localhost:8080/"
        },
        "id": "wr2-FIBMTjtL",
        "outputId": "a0703663-c603-4c7f-c1c2-7d600285c4a0"
      },
      "execution_count": 2,
      "outputs": [
        {
          "output_type": "stream",
          "name": "stdout",
          "text": [
            "Thu Dec 23 17:20:04 2021       \n",
            "+-----------------------------------------------------------------------------+\n",
            "| NVIDIA-SMI 495.44       Driver Version: 460.32.03    CUDA Version: 11.2     |\n",
            "|-------------------------------+----------------------+----------------------+\n",
            "| GPU  Name        Persistence-M| Bus-Id        Disp.A | Volatile Uncorr. ECC |\n",
            "| Fan  Temp  Perf  Pwr:Usage/Cap|         Memory-Usage | GPU-Util  Compute M. |\n",
            "|                               |                      |               MIG M. |\n",
            "|===============================+======================+======================|\n",
            "|   0  Tesla K80           Off  | 00000000:00:04.0 Off |                    0 |\n",
            "| N/A   40C    P8    28W / 149W |      3MiB / 11441MiB |      0%      Default |\n",
            "|                               |                      |                  N/A |\n",
            "+-------------------------------+----------------------+----------------------+\n",
            "                                                                               \n",
            "+-----------------------------------------------------------------------------+\n",
            "| Processes:                                                                  |\n",
            "|  GPU   GI   CI        PID   Type   Process name                  GPU Memory |\n",
            "|        ID   ID                                                   Usage      |\n",
            "|=============================================================================|\n",
            "|  No running processes found                                                 |\n",
            "+-----------------------------------------------------------------------------+\n"
          ]
        }
      ]
    }
  ]
}